{
 "cells": [
  {
   "cell_type": "markdown",
   "metadata": {},
   "source": [
    "![img_ex4](https://user-images.githubusercontent.com/77032258/104319616-78467880-5524-11eb-8005-7a76f27fdac0.png) | ![img_ex5](https://user-images.githubusercontent.com/77032258/104319623-7aa8d280-5524-11eb-9e44-2323c86c7dac.png) | ![img_ex6](https://user-images.githubusercontent.com/77032258/104319652-83010d80-5524-11eb-8255-8ef1f0b9b738.png)\n",
    "--- | --- | ---"
   ]
  },
  {
   "cell_type": "code",
   "execution_count": null,
   "metadata": {},
   "outputs": [],
   "source": []
  }
 ],
 "metadata": {
  "kernelspec": {
   "display_name": "Python 3",
   "language": "python",
   "name": "python3"
  },
  "language_info": {
   "codemirror_mode": {
    "name": "ipython",
    "version": 3
   },
   "file_extension": ".py",
   "mimetype": "text/x-python",
   "name": "python",
   "nbconvert_exporter": "python",
   "pygments_lexer": "ipython3",
   "version": "3.7.1"
  }
 },
 "nbformat": 4,
 "nbformat_minor": 4
}
