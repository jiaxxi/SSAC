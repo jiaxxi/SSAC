{
 "cells": [
  {
   "cell_type": "code",
   "execution_count": null,
   "metadata": {},
   "outputs": [],
   "source": [
    "from PIL import Image\n",
    "import os, glob\n",
    "import numpy as np\n",
    "import os\n",
    "import matplotlib.pyplot as plt\n",
    "from tensorflow import keras"
   ]
  },
  {
   "cell_type": "markdown",
   "metadata": {},
   "source": [
    "# 데이터 불러온 후 Resize"
   ]
  },
  {
   "cell_type": "code",
   "execution_count": 17,
   "metadata": {},
   "outputs": [],
   "source": [
    "# 가위, 바위, 보 파일사이즈 변경을 위한 변수 설정\n",
    "target_size = (28,28)\n",
    "\n",
    "# 가위, 바위, 보 이미지가 저장된 디렉토리 아래의 모든 jpg 파일을 읽어들임\n",
    "image_dir_path = os.getenv(\"HOME\") + \"/aiffel/rock_scissor_paper/scissor\"\n",
    "images = glob.glob(image_dir_path + \"/*.jpg\") \n",
    "for img in images:\n",
    "    old_img = Image.open(img)\n",
    "    new_img = old_img.resize(target_size,Image.ANTIALIAS)\n",
    "    new_img.save(img,\"JPEG\")\n",
    "\n",
    "image_dir_path = os.getenv(\"HOME\") + \"/aiffel/rock_scissor_paper/rock\"\n",
    "images = glob.glob(image_dir_path + \"/*.jpg\")  \n",
    "for img in images:\n",
    "    old_img = Image.open(img)\n",
    "    new_img = old_img.resize(target_size,Image.ANTIALIAS)\n",
    "    new_img.save(img,\"JPEG\")\n",
    "\n",
    "image_dir_path = os.getenv(\"HOME\") + \"/aiffel/rock_scissor_paper/paper\"\n",
    "images= glob.glob(image_dir_path + \"/*.jpg\")  \n",
    "for img in images:\n",
    "    old_img = Image.open(img)\n",
    "    new_img = old_img.resize(target_size,Image.ANTIALIAS)\n",
    "    new_img.save(img,\"JPEG\")"
   ]
  },
  {
   "cell_type": "markdown",
   "metadata": {},
   "source": [
    "# 가위, 바위, 보 데이터 읽는 함수 생성"
   ]
  },
  {
   "cell_type": "code",
   "execution_count": 49,
   "metadata": {},
   "outputs": [
    {
     "name": "stdout",
     "output_type": "stream",
     "text": [
      "학습데이터(x_train)의 이미지 개수는 3600 입니다.\n",
      "x_train shape: (3600, 28, 28, 3)\n",
      "y_train shape: (3600,)\n"
     ]
    }
   ],
   "source": [
    "def load_data(img_path):\n",
    "    number_of_data = 3600\n",
    "    img_size = 28\n",
    "    color = 3\n",
    "    #이미지 데이터와 라벨(가위 : 0, 바위 : 1, 보 : 2) 데이터를 담을 행렬(matrix) 영역을 생성합니다.\n",
    "    imgs = np.zeros(number_of_data*img_size*img_size*color,dtype = np.int32).reshape(number_of_data,img_size,img_size,color)\n",
    "    labels = np.zeros(number_of_data,dtype = np.int32)\n",
    "\n",
    "    idx = 0\n",
    "    for file in glob.iglob(img_path+'/scissor/*.jpg'):\n",
    "        img = np.array(Image.open(file),dtype = np.int32)\n",
    "        imgs[idx,:,:,:] = img    # 데이터 영역에 이미지 행렬을 복사\n",
    "        labels[idx] = 0   # 가위 : 0\n",
    "        idx = idx + 1\n",
    "\n",
    "    for file in glob.iglob(img_path+'/rock/*.jpg'):\n",
    "        img = np.array(Image.open(file),dtype = np.int32)\n",
    "        imgs[idx,:,:,:] = img    # 데이터 영역에 이미지 행렬을 복사\n",
    "        labels[idx] = 1   # 바위 : 1\n",
    "        idx = idx + 1       \n",
    "    \n",
    "    for file in glob.iglob(img_path+'/paper/*.jpg'):\n",
    "        img = np.array(Image.open(file),dtype = np.int32)\n",
    "        imgs[idx,:,:,:] = img    # 데이터 영역에 이미지 행렬을 복사\n",
    "        labels[idx] = 2   # 보 : 2\n",
    "        idx = idx + 1\n",
    "        \n",
    "    print(\"학습데이터(x_train)의 이미지 개수는\",idx,\"입니다.\")\n",
    "    return imgs, labels\n",
    "\n",
    "image_dir_path = os.getenv(\"HOME\") + \"/aiffel/rock_scissor_paper\"\n",
    "(x_train, y_train) = load_data(image_dir_path)\n",
    "\n",
    "print(\"x_train shape: {}\".format(x_train.shape))\n",
    "print(\"y_train shape: {}\".format(y_train.shape))"
   ]
  },
  {
   "cell_type": "markdown",
   "metadata": {},
   "source": [
    "# 딥러닝 네트워크 설계"
   ]
  },
  {
   "cell_type": "code",
   "execution_count": 46,
   "metadata": {},
   "outputs": [
    {
     "name": "stdout",
     "output_type": "stream",
     "text": [
      "Model: \"sequential_9\"\n",
      "_________________________________________________________________\n",
      "Layer (type)                 Output Shape              Param #   \n",
      "=================================================================\n",
      "conv2d_18 (Conv2D)           (None, 26, 26, 32)        896       \n",
      "_________________________________________________________________\n",
      "max_pooling2d_18 (MaxPooling (None, 13, 13, 32)        0         \n",
      "_________________________________________________________________\n",
      "conv2d_19 (Conv2D)           (None, 11, 11, 32)        9248      \n",
      "_________________________________________________________________\n",
      "max_pooling2d_19 (MaxPooling (None, 5, 5, 32)          0         \n",
      "_________________________________________________________________\n",
      "flatten_9 (Flatten)          (None, 800)               0         \n",
      "_________________________________________________________________\n",
      "dense_18 (Dense)             (None, 32)                25632     \n",
      "_________________________________________________________________\n",
      "dense_19 (Dense)             (None, 3)                 99        \n",
      "=================================================================\n",
      "Total params: 35,875\n",
      "Trainable params: 35,875\n",
      "Non-trainable params: 0\n",
      "_________________________________________________________________\n"
     ]
    }
   ],
   "source": [
    "n_channel_1 = 32 # 이미지 특징의 수\n",
    "n_channel_2 = 32 # 이미지 특징의 수 \n",
    "n_dense = 32 # 분류기에 사용되는 뉴런의 숫자\n",
    "\n",
    "model = keras.models.Sequential()\n",
    "model.add(keras.layers.Conv2D(n_channel_1, (3,3), activation = 'relu', input_shape=(28,28,3))) # 가위,바위,보 3개\n",
    "model.add(keras.layers.MaxPool2D(2,2))\n",
    "model.add(keras.layers.Conv2D(n_channel_2, (3,3), activation = 'relu'))\n",
    "model.add(keras.layers.MaxPooling2D((2,2)))\n",
    "model.add(keras.layers.Flatten())\n",
    "model.add(keras.layers.Dense(n_dense, activation = 'relu'))\n",
    "model.add(keras.layers.Dense(3, activation = 'softmax'))\n",
    "\n",
    "model.summary()"
   ]
  },
  {
   "cell_type": "markdown",
   "metadata": {},
   "source": [
    "# 딥러닝 네트워크 학습"
   ]
  },
  {
   "cell_type": "code",
   "execution_count": 47,
   "metadata": {},
   "outputs": [
    {
     "name": "stdout",
     "output_type": "stream",
     "text": [
      "Epoch 1/20\n",
      "113/113 [==============================] - 4s 33ms/step - loss: 3.3114 - accuracy: 0.4181\n",
      "Epoch 2/20\n",
      "113/113 [==============================] - 3s 27ms/step - loss: 0.9398 - accuracy: 0.5056\n",
      "Epoch 3/20\n",
      "113/113 [==============================] - 6s 56ms/step - loss: 0.8593 - accuracy: 0.5797\n",
      "Epoch 4/20\n",
      "113/113 [==============================] - 5s 46ms/step - loss: 0.7313 - accuracy: 0.6286\n",
      "Epoch 5/20\n",
      "113/113 [==============================] - 4s 34ms/step - loss: 0.6294 - accuracy: 0.6928\n",
      "Epoch 6/20\n",
      "113/113 [==============================] - 6s 53ms/step - loss: 0.6053 - accuracy: 0.7047\n",
      "Epoch 7/20\n",
      "113/113 [==============================] - 5s 41ms/step - loss: 0.5493 - accuracy: 0.7417\n",
      "Epoch 8/20\n",
      "113/113 [==============================] - 5s 40ms/step - loss: 0.4925 - accuracy: 0.7706\n",
      "Epoch 9/20\n",
      "113/113 [==============================] - 5s 47ms/step - loss: 0.4514 - accuracy: 0.7886\n",
      "Epoch 10/20\n",
      "113/113 [==============================] - 2s 20ms/step - loss: 0.4151 - accuracy: 0.8189\n",
      "Epoch 11/20\n",
      "113/113 [==============================] - 2s 19ms/step - loss: 0.4093 - accuracy: 0.8181\n",
      "Epoch 12/20\n",
      "113/113 [==============================] - 3s 27ms/step - loss: 0.3793 - accuracy: 0.8369\n",
      "Epoch 13/20\n",
      "113/113 [==============================] - 5s 47ms/step - loss: 0.3398 - accuracy: 0.8469\n",
      "Epoch 14/20\n",
      "113/113 [==============================] - 5s 43ms/step - loss: 0.3368 - accuracy: 0.8628\n",
      "Epoch 15/20\n",
      "113/113 [==============================] - 1s 13ms/step - loss: 0.3442 - accuracy: 0.8600\n",
      "Epoch 16/20\n",
      "113/113 [==============================] - 2s 18ms/step - loss: 0.3487 - accuracy: 0.8592\n",
      "Epoch 17/20\n",
      "113/113 [==============================] - 8s 68ms/step - loss: 0.3370 - accuracy: 0.8658\n",
      "Epoch 18/20\n",
      "113/113 [==============================] - 7s 58ms/step - loss: 0.2524 - accuracy: 0.8964\n",
      "Epoch 19/20\n",
      "113/113 [==============================] - 6s 54ms/step - loss: 0.2253 - accuracy: 0.9128\n",
      "Epoch 20/20\n",
      "113/113 [==============================] - 5s 47ms/step - loss: 0.2321 - accuracy: 0.9089\n",
      "113/113 - 0s - loss: 0.2224 - accuracy: 0.9111\n",
      "train_loss: 0.22243152558803558 \n",
      "train_accuracy: 0.9111111164093018\n"
     ]
    }
   ],
   "source": [
    "model.compile(optimizer = 'adam',\n",
    "             loss = 'sparse_categorical_crossentropy',\n",
    "             metrics = ['accuracy'])\n",
    "\n",
    "model.fit(x_train, y_train, epochs = 20) # accuracy를 높이기 위해 epoch를 20으로 설정\n",
    "\n",
    "train_loss, train_accuracy = model.evaluate(x_train, y_train, verbose=2)\n",
    "print(\"train_loss: {} \".format(train_loss))\n",
    "print(\"train_accuracy: {}\".format(train_accuracy))"
   ]
  },
  {
   "cell_type": "markdown",
   "metadata": {},
   "source": [
    "# 테스트 데이터 함수 생성"
   ]
  },
  {
   "cell_type": "code",
   "execution_count": null,
   "metadata": {},
   "outputs": [],
   "source": [
    "def load_test_data(img_path):\n",
    "    number_of_data = 300\n",
    "    img_size = 28\n",
    "    color = 3\n",
    "    imgs = np.zeros(number_of_data*img_size*img_size*color,dtype = np.int32).reshape(number_of_data,img_size,img_size,color)\n",
    "    labels = np.zeros(number_of_data,dtype = np.int32)\n",
    "\n",
    "    idx = 0\n",
    "    for file in glob.iglob(img_path+'/scissor/*.jpg'):\n",
    "        img = np.array(Image.open(file),dtype = np.int32)\n",
    "        imgs[idx,:,:,:] = img    # 데이터 영역에 이미지 행렬을 복사\n",
    "        labels[idx] = 0   # 가위 : 0\n",
    "        idx = idx + 1\n",
    "\n",
    "    for file in glob.iglob(img_path+'/rock/*.jpg'):\n",
    "        img = np.array(Image.open(file),dtype = np.int32)\n",
    "        imgs[idx,:,:,:] = img    # 데이터 영역에 이미지 행렬을 복사\n",
    "        labels[idx] = 1   # 바위 : 1\n",
    "        idx = idx + 1       \n",
    "    \n",
    "    for file in glob.iglob(img_path+'/paper/*.jpg'):\n",
    "        img = np.array(Image.open(file),dtype = np.int32)\n",
    "        imgs[idx,:,:,:] = img    # 데이터 영역에 이미지 행렬을 복사\n",
    "        labels[idx] = 2   # 보 : 2\n",
    "        idx = idx + 1\n",
    "        \n",
    "    print(\"테스트데이터(x_test)의 이미지 개수는\",idx,\"입니다.\")\n",
    "    return imgs, labels\n",
    "\n",
    "image_dir_path = os.getenv(\"HOME\") + \"/aiffel/sample/rock_scissor_paper\" # 테스트데이터 경로 설정\n",
    "(x_test, y_test) = load_test_data(image_dir_path) \n",
    "x_test_norm = x_test/255.0\n",
    "\n",
    "print(\"x_test shape: {}\".format(x_test.shape))\n",
    "print(\"y_test shape: {}\".format(y_test.shape))"
   ]
  },
  {
   "cell_type": "markdown",
   "metadata": {},
   "source": [
    "# 테스트 데이터를 활용한 테스트"
   ]
  },
  {
   "cell_type": "code",
   "execution_count": 48,
   "metadata": {},
   "outputs": [
    {
     "name": "stdout",
     "output_type": "stream",
     "text": [
      "테스트데이터(x_test)의 이미지 개수는 300 입니다.\n",
      "x_test shape: (300, 28, 28, 3)\n",
      "y_test shape: (300,)\n",
      "10/10 - 0s - loss: 0.3053 - accuracy: 0.8533\n",
      "test_loss: 0.3053496479988098 \n",
      "test_accuracy: 0.8533333539962769\n"
     ]
    }
   ],
   "source": [
    "test_loss, test_accuracy = model.evaluate(x_test, y_test, verbose = 2)\n",
    "print(\"test_loss: {} \".format(test_loss))\n",
    "print(\"test_accuracy: {}\".format(test_accuracy))"
   ]
  },
  {
   "cell_type": "markdown",
   "metadata": {},
   "source": [
    "---"
   ]
  },
  {
   "cell_type": "markdown",
   "metadata": {},
   "source": [
    "테스트 데이터 만들 때 함수를 기존 함수를 이용하고 거기서 number_of_data만 바꿔서 사용하고 싶은데 잘 적용이 안됐다.\n",
    "그래서 새로 만들긴 했는데 어떻게 해야 쓸 수 있는지 공부해봐야겠다.\n",
    "배운대로 하긴 했는데 처음이라 그런지 뭘 하는건지 잘 모르겠다.\n",
    "공부하면서 훈련용과 테스트용 데이터 분리의 중요성을 알게 됐다."
   ]
  }
 ],
 "metadata": {
  "kernelspec": {
   "display_name": "datascience",
   "language": "python",
   "name": "datascience"
  },
  "language_info": {
   "codemirror_mode": {
    "name": "ipython",
    "version": 3
   },
   "file_extension": ".py",
   "mimetype": "text/x-python",
   "name": "python",
   "nbconvert_exporter": "python",
   "pygments_lexer": "ipython3",
   "version": "3.7.1"
  }
 },
 "nbformat": 4,
 "nbformat_minor": 4
}
