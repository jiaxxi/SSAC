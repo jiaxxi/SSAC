{
 "cells": [
  {
   "cell_type": "markdown",
   "id": "beautiful-belgium",
   "metadata": {},
   "source": [
    "# 작사가 인공지능 만들기"
   ]
  },
  {
   "cell_type": "markdown",
   "id": "coordinate-lebanon",
   "metadata": {},
   "source": [
    "## 1) 데이터 다운로드"
   ]
  },
  {
   "cell_type": "code",
   "execution_count": 12,
   "id": "prescription-estonia",
   "metadata": {},
   "outputs": [],
   "source": [
    "# $ wget https://aiffelstaticprd.blob.core.windows.net/media/documents/song_lyrics.zip\n",
    "# $ unzip song_lyrics.zip -d ~/aiffel/lyricist/data/lyrics"
   ]
  },
  {
   "cell_type": "markdown",
   "id": "enclosed-platinum",
   "metadata": {},
   "source": [
    "## 2) 데이터 읽어오기"
   ]
  },
  {
   "cell_type": "code",
   "execution_count": 13,
   "id": "forward-scott",
   "metadata": {},
   "outputs": [],
   "source": [
    "import glob\n",
    "import os\n",
    "import re\n",
    "import numpy as np\n",
    "import tensorflow as tf\n",
    "from tensorflow.keras.layers import Embedding, LSTM, Dense\n",
    "import matplotlib.pyplot as plt"
   ]
  },
  {
   "cell_type": "code",
   "execution_count": 14,
   "id": "copyrighted-texas",
   "metadata": {},
   "outputs": [
    {
     "name": "stdout",
     "output_type": "stream",
     "text": [
      "데이터 크기: 187088\n",
      "Examples:\n",
      " ['How does a bastard, orphan, son of a whore', 'And a Scotsman, dropped in the middle of a forgotten spot in the Caribbean by providence impoverished,', 'In squalor, grow up to be a hero and a scholar? The ten-dollar founding father without a father']\n"
     ]
    }
   ],
   "source": [
    "txt_file_path = os.getenv('HOME')+'/aiffel/lyricist/data/lyrics/*'\n",
    "\n",
    "txt_list = glob.glob(txt_file_path)\n",
    "\n",
    "raw_corpus = []\n",
    "\n",
    "for txt_file in txt_list:\n",
    "    with open(txt_file, \"r\") as f:\n",
    "        raw = f.read().splitlines()\n",
    "        raw_corpus.extend(raw)\n",
    "\n",
    "print(\"데이터 크기:\", len(raw_corpus))\n",
    "print(\"Examples:\\n\", raw_corpus[:3])"
   ]
  },
  {
   "cell_type": "markdown",
   "id": "disturbed-priority",
   "metadata": {},
   "source": [
    "## 3) 데이터 정제"
   ]
  },
  {
   "cell_type": "markdown",
   "id": "accessory-affair",
   "metadata": {},
   "source": [
    "### 특수문자 제거 함수"
   ]
  },
  {
   "cell_type": "code",
   "execution_count": 15,
   "id": "modern-literacy",
   "metadata": {},
   "outputs": [
    {
     "name": "stdout",
     "output_type": "stream",
     "text": [
      "<start> this is sample sentence . <end>\n"
     ]
    }
   ],
   "source": [
    "def preprocess_sentence(sentence):\n",
    "    sentence = sentence.lower().strip()\n",
    "    sentence = re.sub(r\"([?.!,¿])\", r\" \\1 \", sentence)        \n",
    "    sentence = re.sub(r'[\" \"]+', \" \", sentence)\n",
    "    sentence = re.sub(r\"[^a-zA-Z?.!,¿]+\", \" \", sentence)\n",
    "    sentence = sentence.strip()\n",
    "    sentence = '<start> ' + sentence + ' <end>'  \n",
    "    \n",
    "    return sentence\n",
    "\n",
    "print(preprocess_sentence(\"This @_is ;;;sample        sentence.\"))"
   ]
  },
  {
   "cell_type": "markdown",
   "id": "false-maria",
   "metadata": {},
   "source": [
    "### 정제 데이터 구축"
   ]
  },
  {
   "cell_type": "code",
   "execution_count": 16,
   "id": "common-extent",
   "metadata": {},
   "outputs": [
    {
     "data": {
      "text/plain": [
       "['<start> how does a bastard , orphan , son of a whore <end>',\n",
       " '<start> and a scotsman , dropped in the middle of a forgotten spot in the caribbean by providence impoverished , <end>',\n",
       " '<start> in squalor , grow up to be a hero and a scholar ? the ten dollar founding father without a father <end>',\n",
       " '<start> got a lot farther by working a lot harder <end>',\n",
       " '<start> by being a lot smarter by being a self starter <end>',\n",
       " '<start> by fourteen , they placed him in charge of a trading charter and every day while slaves were being slaughtered and carted away <end>',\n",
       " '<start> across the waves , he struggled and kept his guard up <end>',\n",
       " '<start> inside , he was longing for something to be a part of <end>',\n",
       " '<start> the brother was ready to beg , steal , borrow , or barter then a hurricane came , and devastation reigned <end>',\n",
       " '<start> our man saw his future drip , dripping down the drain <end>']"
      ]
     },
     "execution_count": 16,
     "metadata": {},
     "output_type": "execute_result"
    }
   ],
   "source": [
    "corpus = []\n",
    "\n",
    "for sentence in raw_corpus:\n",
    "    if len(sentence) == 0: continue\n",
    "    if sentence[-1] == \":\": continue\n",
    "        \n",
    "    corpus.append(preprocess_sentence(sentence))\n",
    "        \n",
    "corpus[:10]    # 특수문자가 제거 되었는지 확인"
   ]
  },
  {
   "cell_type": "markdown",
   "id": "signed-sussex",
   "metadata": {},
   "source": [
    "### 토큰화 함수"
   ]
  },
  {
   "cell_type": "code",
   "execution_count": 17,
   "id": "alive-sequence",
   "metadata": {},
   "outputs": [
    {
     "name": "stdout",
     "output_type": "stream",
     "text": [
      "[[   2   78  626 ...    0    0    0]\n",
      " [   8    9    1 ...    1    4    3]\n",
      " [   4  831   29 ...    9  635    3]\n",
      " ...\n",
      " [   4  838 3383 ... 3383  348    3]\n",
      " [   2 6041   29 ...    0    0    0]\n",
      " [   2    8   42 ...    0    0    0]] <keras_preprocessing.text.Tokenizer object at 0x7fd484dd7090>\n"
     ]
    }
   ],
   "source": [
    "def tokenize(corpus):\n",
    "\n",
    "    tokenizer = tf.keras.preprocessing.text.Tokenizer(\n",
    "        num_words=7000,\n",
    "        filters=' ',    # 별도로 전처리 로직을 추가할 수 있음\n",
    "        oov_token=\"<unk>\")  # out-of-vocabulary, 사전에 없었던 단어는 어떤 토큰으로 대체할지\n",
    "    \n",
    "    tokenizer.fit_on_texts(corpus) \n",
    "    \n",
    "    tensor = tokenizer.texts_to_sequences(corpus)\n",
    "    \n",
    "    total_data_text = list(tensor)\n",
    "    num_tokens = [len(tokens) for tokens in total_data_text]\n",
    "    max_tokens = np.mean(num_tokens) + 2 * np.std(num_tokens)\n",
    "    maxlen = int(max_tokens)\n",
    "    tensor = tf.keras.preprocessing.sequence.pad_sequences(tensor, padding='post', maxlen=maxlen)  \n",
    "\n",
    "    print(tensor,tokenizer)\n",
    "    return tensor, tokenizer\n",
    "\n",
    "tensor, tokenizer = tokenize(corpus)"
   ]
  },
  {
   "cell_type": "code",
   "execution_count": 18,
   "id": "attached-court",
   "metadata": {
    "scrolled": false
   },
   "outputs": [
    {
     "name": "stdout",
     "output_type": "stream",
     "text": [
      "1 : <unk>\n",
      "2 : <start>\n",
      "3 : <end>\n",
      "4 : ,\n",
      "5 : i\n",
      "6 : the\n",
      "7 : you\n",
      "8 : and\n",
      "9 : a\n",
      "10 : to\n"
     ]
    }
   ],
   "source": [
    "for idx in tokenizer.index_word:    # 구축이 잘 됐는지 확인\n",
    "    print(idx, \":\", tokenizer.index_word[idx])\n",
    "\n",
    "    if idx >= 10: break"
   ]
  },
  {
   "cell_type": "markdown",
   "id": "wound-smith",
   "metadata": {},
   "source": [
    "## 4) 평가 데이터셋 분리"
   ]
  },
  {
   "cell_type": "markdown",
   "id": "logical-flashing",
   "metadata": {},
   "source": [
    "### 데이터셋 객체 생성"
   ]
  },
  {
   "cell_type": "code",
   "execution_count": 26,
   "id": "appropriate-flexibility",
   "metadata": {},
   "outputs": [
    {
     "name": "stdout",
     "output_type": "stream",
     "text": [
      "Source Train: (123024, 19)\n",
      "Target Train: (123024, 19)\n"
     ]
    }
   ],
   "source": [
    "from sklearn.model_selection import train_test_split\n",
    "\n",
    "src_input = tensor[:, :-1]\n",
    "tgt_input = tensor[:, 1:]\n",
    "\n",
    "enc_train, enc_val, dec_train, dec_val = train_test_split(src_input, \n",
    "                                                          tgt_input,\n",
    "                                                          test_size=0.3,\n",
    "                                                          shuffle=True, \n",
    "                                                          random_state=34)\n",
    "\n",
    "print(\"Source Train:\", enc_train.shape)\n",
    "print(\"Target Train:\", dec_train.shape)"
   ]
  },
  {
   "cell_type": "code",
   "execution_count": 37,
   "id": "elect-driving",
   "metadata": {},
   "outputs": [
    {
     "data": {
      "text/plain": [
       "(<BatchDataset shapes: ((256, 19), (256, 19)), types: (tf.int32, tf.int32)>,\n",
       " <BatchDataset shapes: ((256, 19), (256, 19)), types: (tf.int32, tf.int32)>)"
      ]
     },
     "execution_count": 37,
     "metadata": {},
     "output_type": "execute_result"
    }
   ],
   "source": [
    "BUFFER_SIZE = len(src_input)\n",
    "BATCH_SIZE = 256\n",
    "steps_per_epoch = len(src_input) // BATCH_SIZE\n",
    "\n",
    "VOCAB_SIZE = tokenizer.num_words + 1    # <pad>추가\n",
    "\n",
    "dataset = tf.data.Dataset.from_tensor_slices((enc_train, dec_train)).shuffle(BUFFER_SIZE)\n",
    "dataset = dataset.batch(BATCH_SIZE, drop_remainder=True)\n",
    "\n",
    "val_dataset = tf.data.Dataset.from_tensor_slices((enc_val, dec_val)).shuffle(BUFFER_SIZE)\n",
    "val_dataset = val_dataset.batch(BATCH_SIZE, drop_remainder=True)\n",
    "\n",
    "dataset, val_dataset"
   ]
  },
  {
   "cell_type": "markdown",
   "id": "working-guitar",
   "metadata": {},
   "source": [
    "## 05) 인공지능 만들기"
   ]
  },
  {
   "cell_type": "markdown",
   "id": "incomplete-fancy",
   "metadata": {},
   "source": [
    "### 모델 생성 클래스"
   ]
  },
  {
   "cell_type": "code",
   "execution_count": 38,
   "id": "lonely-julian",
   "metadata": {},
   "outputs": [],
   "source": [
    "class TextGenerator(tf.keras.Model):\n",
    "    def __init__(self, vocab_size, embedding_size, hidden_size):\n",
    "        super(TextGenerator, self).__init__()\n",
    "        \n",
    "        self.embedding = Embedding(vocab_size, embedding_size)\n",
    "        self.rnn_1 = LSTM(hidden_size, return_sequences=True)\n",
    "        self.rnn_2 = LSTM(hidden_size, return_sequences=True)\n",
    "        self.linear = Dense(vocab_size)\n",
    "        \n",
    "    def call(self, x):\n",
    "        out = self.embedding(x)\n",
    "        out = self.rnn_1(out)\n",
    "        out = self.rnn_2(out)\n",
    "        out = self.linear(out)\n",
    "        \n",
    "        return out\n",
    "    \n",
    "embedding_size = 256\n",
    "hidden_size = 1024\n",
    "model = TextGenerator(tokenizer.num_words + 1, embedding_size , hidden_size)"
   ]
  },
  {
   "cell_type": "markdown",
   "id": "usual-radio",
   "metadata": {},
   "source": [
    "### history 그래프 생성 함수"
   ]
  },
  {
   "cell_type": "code",
   "execution_count": 39,
   "id": "suspended-hepatitis",
   "metadata": {},
   "outputs": [],
   "source": [
    "def plot_curve(epochs, hist, list_of_metrics):\n",
    "    \n",
    "    fig, ax = plt.subplots(1,2,figsize = (12, 8))\n",
    "    \n",
    "    for i in range(len(ax)):\n",
    "        ax[i].set_xlabel('Epochs')\n",
    "        ax[i].set_ylabel('Value')\n",
    "        \n",
    "        for n in range(len(list_of_metrics)):\n",
    "            if i == 0:\n",
    "                y = hist[list_of_metrics[n]]\n",
    "                if n == 0:\n",
    "                    ax[i].plot(epochs, y, label=\"train\")\n",
    "                else:\n",
    "                    ax[i].plot(epochs, y, label=\"val\")\n",
    "                ax[i].set_title('Loss')\n",
    "                ax[i].legend(loc='upper right')\n",
    "                if n == 1:\n",
    "                    break\n",
    "            else:\n",
    "                if n >= 2:\n",
    "                    y = hist[list_of_metrics[n]]\n",
    "                    if n == 2:\n",
    "                        ax[i].plot(epochs, y, label=\"train\")\n",
    "                    else:\n",
    "                        ax[i].plot(epochs, y, label=\"val\")\n",
    "                    ax[i].set_title('Accuracy')\n",
    "                    ax[i].legend(loc='lower right')\n",
    "                    \n",
    "    plt.show()"
   ]
  },
  {
   "cell_type": "markdown",
   "id": "verbal-lightweight",
   "metadata": {},
   "source": [
    "### 모델 학습"
   ]
  },
  {
   "cell_type": "code",
   "execution_count": 40,
   "id": "psychological-decrease",
   "metadata": {},
   "outputs": [
    {
     "name": "stdout",
     "output_type": "stream",
     "text": [
      "Epoch 1/10\n",
      "480/480 [==============================] - 75s 157ms/step - loss: 2.8735 - accuracy: 0.5664 - val_loss: 2.5456 - val_accuracy: 0.5923\n",
      "Epoch 2/10\n",
      "480/480 [==============================] - 76s 159ms/step - loss: 2.4498 - accuracy: 0.5999 - val_loss: 2.3902 - val_accuracy: 0.6056\n",
      "Epoch 3/10\n",
      "480/480 [==============================] - 78s 162ms/step - loss: 2.3191 - accuracy: 0.6104 - val_loss: 2.2934 - val_accuracy: 0.6134\n",
      "Epoch 4/10\n",
      "480/480 [==============================] - 77s 161ms/step - loss: 2.2234 - accuracy: 0.6172 - val_loss: 2.2261 - val_accuracy: 0.6192\n",
      "Epoch 5/10\n",
      "480/480 [==============================] - 78s 162ms/step - loss: 2.1399 - accuracy: 0.6238 - val_loss: 2.1714 - val_accuracy: 0.6244\n",
      "Epoch 6/10\n",
      "480/480 [==============================] - 79s 164ms/step - loss: 2.0677 - accuracy: 0.6297 - val_loss: 2.1280 - val_accuracy: 0.6293\n",
      "Epoch 7/10\n",
      "480/480 [==============================] - 78s 163ms/step - loss: 2.0016 - accuracy: 0.6356 - val_loss: 2.0909 - val_accuracy: 0.6339\n",
      "Epoch 8/10\n",
      "480/480 [==============================] - 77s 161ms/step - loss: 1.9400 - accuracy: 0.6414 - val_loss: 2.0611 - val_accuracy: 0.6379\n",
      "Epoch 9/10\n",
      "480/480 [==============================] - 77s 161ms/step - loss: 1.8807 - accuracy: 0.6478 - val_loss: 2.0337 - val_accuracy: 0.6422\n",
      "Epoch 10/10\n",
      "480/480 [==============================] - 77s 161ms/step - loss: 1.8239 - accuracy: 0.6541 - val_loss: 2.0122 - val_accuracy: 0.6459\n"
     ]
    }
   ],
   "source": [
    "optimizer = tf.keras.optimizers.Adam()\n",
    "\n",
    "loss = tf.keras.losses.SparseCategoricalCrossentropy(\n",
    "    from_logits=True,\n",
    "    reduction='none')\n",
    "\n",
    "model.compile(loss=loss, optimizer=optimizer, metrics=['accuracy'])\n",
    "\n",
    "history = model.fit(dataset,\n",
    "                    epochs=10,\n",
    "                    validation_data=val_dataset,\n",
    "                    verbose=1)"
   ]
  },
  {
   "cell_type": "code",
   "execution_count": 41,
   "id": "substantial-prize",
   "metadata": {},
   "outputs": [
    {
     "data": {
      "image/png": "[encoded data removed]",
      "text/plain": [
       "<Figure size 864x576 with 2 Axes>"
      ]
     },
     "metadata": {
      "needs_background": "light"
     },
     "output_type": "display_data"
    }
   ],
   "source": [
    "plot_curve(history.epoch, history.history, ['loss', 'val_loss', 'accuracy', 'val_accuracy'])"
   ]
  },
  {
   "cell_type": "markdown",
   "id": "settled-ukraine",
   "metadata": {},
   "source": [
    "# 6) 모델 평가"
   ]
  },
  {
   "cell_type": "markdown",
   "id": "meaning-virus",
   "metadata": {},
   "source": [
    "### 모델 평가 함수 생성"
   ]
  },
  {
   "cell_type": "code",
   "execution_count": 42,
   "id": "temporal-detective",
   "metadata": {},
   "outputs": [],
   "source": [
    "def generate_text(model, tokenizer, init_sentence=\"<start>\", max_len=20):\n",
    "    test_input = tokenizer.texts_to_sequences([init_sentence])\n",
    "    test_tensor = tf.convert_to_tensor(test_input, dtype=tf.int64)\n",
    "    end_token = tokenizer.word_index[\"<end>\"]\n",
    "\n",
    "    while True:\n",
    "        predict = model(test_tensor)\n",
    "        predict_word = tf.argmax(tf.nn.softmax(predict, axis=-1), axis=-1)[:, -1]\n",
    "        \n",
    "        test_tensor = tf.concat([test_tensor, tf.expand_dims(predict_word, axis=0)], axis=-1)\n",
    "\n",
    "        if predict_word.numpy()[0] == end_token: break\n",
    "        if test_tensor.shape[1] >= max_len: break\n",
    "\n",
    "    generated = \"\"\n",
    "    \n",
    "    for word_index in test_tensor[0].numpy():\n",
    "        generated += tokenizer.index_word[word_index] + \" \"\n",
    "\n",
    "    return generated"
   ]
  },
  {
   "cell_type": "code",
   "execution_count": 46,
   "id": "average-reasoning",
   "metadata": {},
   "outputs": [
    {
     "data": {
      "text/plain": [
       "'<start> i love you , i m better , i m better <end> '"
      ]
     },
     "execution_count": 46,
     "metadata": {},
     "output_type": "execute_result"
    }
   ],
   "source": [
    "generate_text(model, tokenizer, init_sentence=\"<start> i love\", max_len=20)"
   ]
  },
  {
   "cell_type": "markdown",
   "id": "conventional-monkey",
   "metadata": {},
   "source": [
    "---"
   ]
  },
  {
   "cell_type": "markdown",
   "id": "featured-warren",
   "metadata": {},
   "source": [
    "validation loss가 2.0122로 안정적으로 학습되었다.   \n",
    "어렵지 않게 따라갈 수 있었다."
   ]
  }
 ],
 "metadata": {
  "kernelspec": {
   "display_name": "aiffel",
   "language": "python",
   "name": "aiffel"
  },
  "language_info": {
   "codemirror_mode": {
    "name": "ipython",
    "version": 3
   },
   "file_extension": ".py",
   "mimetype": "text/x-python",
   "name": "python",
   "nbconvert_exporter": "python",
   "pygments_lexer": "ipython3",
   "version": "3.7.9"
  }
 },
 "nbformat": 4,
 "nbformat_minor": 5
}
