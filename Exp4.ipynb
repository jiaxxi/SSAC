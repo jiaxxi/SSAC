{
 "cells": [
  {
   "cell_type": "markdown",
   "id": "scientific-collectible",
   "metadata": {},
   "source": [
    "# 네이버 영화리뷰 감성분석"
   ]
  },
  {
   "cell_type": "markdown",
   "id": "australian-reverse",
   "metadata": {},
   "source": [
    "## 1) 데이터 준비와 확인"
   ]
  },
  {
   "cell_type": "code",
   "execution_count": 1,
   "id": "entitled-jungle",
   "metadata": {},
   "outputs": [],
   "source": [
    "import pandas as pd\n",
    "import urllib.request\n",
    "%matplotlib inline\n",
    "import matplotlib.pyplot as plt\n",
    "import re\n",
    "from konlpy.tag import Mecab\n",
    "from tensorflow import keras\n",
    "from tensorflow.keras.preprocessing.text import Tokenizer\n",
    "import numpy as np\n",
    "from tensorflow.keras.preprocessing.sequence import pad_sequences\n",
    "from collections import Counter\n",
    "import os\n",
    "import gensim\n",
    "from gensim.models.keyedvectors import Word2VecKeyedVectors\n",
    "from gensim.models import Word2Vec\n",
    "from gensim.models import KeyedVectors"
   ]
  },
  {
   "cell_type": "code",
   "execution_count": 2,
   "id": "dutch-layout",
   "metadata": {},
   "outputs": [
    {
     "data": {
      "text/html": [
       "<div>\n",
       "<style scoped>\n",
       "    .dataframe tbody tr th:only-of-type {\n",
       "        vertical-align: middle;\n",
       "    }\n",
       "\n",
       "    .dataframe tbody tr th {\n",
       "        vertical-align: top;\n",
       "    }\n",
       "\n",
       "    .dataframe thead th {\n",
       "        text-align: right;\n",
       "    }\n",
       "</style>\n",
       "<table border=\"1\" class=\"dataframe\">\n",
       "  <thead>\n",
       "    <tr style=\"text-align: right;\">\n",
       "      <th></th>\n",
       "      <th>id</th>\n",
       "      <th>document</th>\n",
       "      <th>label</th>\n",
       "    </tr>\n",
       "  </thead>\n",
       "  <tbody>\n",
       "    <tr>\n",
       "      <th>0</th>\n",
       "      <td>9976970</td>\n",
       "      <td>아 더빙.. 진짜 짜증나네요 목소리</td>\n",
       "      <td>0</td>\n",
       "    </tr>\n",
       "    <tr>\n",
       "      <th>1</th>\n",
       "      <td>3819312</td>\n",
       "      <td>흠...포스터보고 초딩영화줄....오버연기조차 가볍지 않구나</td>\n",
       "      <td>1</td>\n",
       "    </tr>\n",
       "    <tr>\n",
       "      <th>2</th>\n",
       "      <td>10265843</td>\n",
       "      <td>너무재밓었다그래서보는것을추천한다</td>\n",
       "      <td>0</td>\n",
       "    </tr>\n",
       "    <tr>\n",
       "      <th>3</th>\n",
       "      <td>9045019</td>\n",
       "      <td>교도소 이야기구먼 ..솔직히 재미는 없다..평점 조정</td>\n",
       "      <td>0</td>\n",
       "    </tr>\n",
       "    <tr>\n",
       "      <th>4</th>\n",
       "      <td>6483659</td>\n",
       "      <td>사이몬페그의 익살스런 연기가 돋보였던 영화!스파이더맨에서 늙어보이기만 했던 커스틴 ...</td>\n",
       "      <td>1</td>\n",
       "    </tr>\n",
       "  </tbody>\n",
       "</table>\n",
       "</div>"
      ],
      "text/plain": [
       "         id                                           document  label\n",
       "0   9976970                                아 더빙.. 진짜 짜증나네요 목소리      0\n",
       "1   3819312                  흠...포스터보고 초딩영화줄....오버연기조차 가볍지 않구나      1\n",
       "2  10265843                                  너무재밓었다그래서보는것을추천한다      0\n",
       "3   9045019                      교도소 이야기구먼 ..솔직히 재미는 없다..평점 조정      0\n",
       "4   6483659  사이몬페그의 익살스런 연기가 돋보였던 영화!스파이더맨에서 늙어보이기만 했던 커스틴 ...      1"
      ]
     },
     "execution_count": 2,
     "metadata": {},
     "output_type": "execute_result"
    }
   ],
   "source": [
    "train_data = pd.read_table('~/aiffel/sentiment_classification/ratings_train.txt')\n",
    "test_data = pd.read_table('~/aiffel/sentiment_classification/ratings_test.txt')\n",
    "\n",
    "train_data.head()"
   ]
  },
  {
   "cell_type": "code",
   "execution_count": 3,
   "id": "finished-uniform",
   "metadata": {},
   "outputs": [],
   "source": [
    "tokenizer = Mecab()\n",
    "stopwords = ['의','가','이','은','들','는','좀','잘','걍','과','도','를','으로','자','에','와','한','하다']"
   ]
  },
  {
   "cell_type": "markdown",
   "id": "floating-begin",
   "metadata": {},
   "source": [
    "## 2) 데이터로더 구성"
   ]
  },
  {
   "cell_type": "code",
   "execution_count": 4,
   "id": "twenty-parallel",
   "metadata": {},
   "outputs": [],
   "source": [
    "def load_data(train_data, test_data, num_words=10000):\n",
    "    train_data.drop_duplicates(subset=['document'], inplace=True)\n",
    "    train_data = train_data.dropna(how = 'any') \n",
    "    test_data.drop_duplicates(subset=['document'], inplace=True)\n",
    "    test_data = test_data.dropna(how = 'any') \n",
    "\n",
    "    X_train = []\n",
    "    for sentence in train_data['document']:\n",
    "        temp_X = tokenizer.morphs(sentence)\n",
    "        temp_X = [word for word in temp_X if not word in stopwords]\n",
    "        X_train.append(temp_X)\n",
    "        \n",
    "    X_test = []\n",
    "    for sentence in test_data['document']:\n",
    "        temp_X = tokenizer.morphs(sentence)\n",
    "        temp_X = [word for word in temp_X if not word in stopwords]\n",
    "        X_test.append(temp_X)\n",
    "\n",
    "    words = np.concatenate(X_train).tolist()\n",
    "    counter = Counter(words)\n",
    "    counter = counter.most_common(10000-4)\n",
    "    vocab = ['<PAD>', '<BOS>', '<UNK>', '<UNUSED>'] + [key for key, _ in counter]\n",
    "    word_to_index = {word:index for index, word in enumerate(vocab)}\n",
    "\n",
    "    def wordlist_to_indexlist(wordlist):\n",
    "        return [word_to_index[word] if word in word_to_index else word_to_index['<UNK>'] for word in wordlist]\n",
    "\n",
    "    X_train = list(map(wordlist_to_indexlist, X_train))\n",
    "    X_test = list(map(wordlist_to_indexlist, X_test))\n",
    "    \n",
    "    return X_train, np.array(list(train_data['label'])), X_test, np.array(list(test_data['label'])), word_to_index"
   ]
  },
  {
   "cell_type": "code",
   "execution_count": 5,
   "id": "molecular-auditor",
   "metadata": {},
   "outputs": [],
   "source": [
    "X_train, y_train, X_test, y_test, word_to_index = load_data(train_data, test_data)"
   ]
  },
  {
   "cell_type": "code",
   "execution_count": 6,
   "id": "material-garage",
   "metadata": {},
   "outputs": [],
   "source": [
    "index_to_word = {index:word for word, index in word_to_index.items()}"
   ]
  },
  {
   "cell_type": "code",
   "execution_count": 7,
   "id": "exterior-regulation",
   "metadata": {},
   "outputs": [],
   "source": [
    "def get_encoded_sentence(sentence, word_to_index):\n",
    "    return [word_to_index['<BOS>']]+[word_to_index[word] if word in word_to_index else word_to_index['<UNK>'] for word in sentence.split()]\n",
    "\n",
    "def get_encoded_sentences(sentences, word_to_index):\n",
    "    return [get_encoded_sentence(sentence, word_to_index) for sentence in sentences]\n",
    "\n",
    "def get_decoded_sentence(encoded_sentence, index_to_word):\n",
    "    return ' '.join(index_to_word[index] if index in index_to_word else '<UNK>' for index in encoded_sentence[1:])\n",
    "\n",
    "def get_decoded_sentences(encoded_sentences, index_to_word):\n",
    "    return [get_decoded_sentence(encoded_sentence, index_to_word) for encoded_sentence in encoded_sentences]"
   ]
  },
  {
   "cell_type": "markdown",
   "id": "recognized-worthy",
   "metadata": {},
   "source": [
    "## 3) 모델구성을 위한 데이터 분석 및 가공"
   ]
  },
  {
   "cell_type": "markdown",
   "id": "accomplished-voice",
   "metadata": {},
   "source": [
    "* 데이터셋 내 문장 길이 분포"
   ]
  },
  {
   "cell_type": "code",
   "execution_count": 8,
   "id": "collective-rebel",
   "metadata": {},
   "outputs": [
    {
     "name": "stdout",
     "output_type": "stream",
     "text": [
      "문장길이 평균 : 15.971024731364448\n",
      "문장길이 최대 : 116\n",
      "문장길이 표준편차 : 12.84408055468762\n"
     ]
    }
   ],
   "source": [
    "total_data_text = list(X_train) + list(X_test)\n",
    "\n",
    "num_tokens = [len(tokens) for tokens in total_data_text]\n",
    "num_tokens = np.array(num_tokens)\n",
    "\n",
    "print('문장길이 평균 :', np.mean(num_tokens))\n",
    "print('문장길이 최대 :', np.max(num_tokens))\n",
    "print('문장길이 표준편차 :', np.std(num_tokens))"
   ]
  },
  {
   "cell_type": "markdown",
   "id": "attached-hygiene",
   "metadata": {},
   "source": [
    "* 적절한 최대 문장 길이 지정"
   ]
  },
  {
   "cell_type": "code",
   "execution_count": 9,
   "id": "institutional-chaos",
   "metadata": {},
   "outputs": [
    {
     "name": "stdout",
     "output_type": "stream",
     "text": [
      "pad_sequences maxlen :  41\n",
      "전체 문장의 93.43%가 maxlen 설정값 이내에 포함됩니다. \n"
     ]
    }
   ],
   "source": [
    "max_tokens = np.mean(num_tokens) + 2 * np.std(num_tokens)\n",
    "maxlen = int(max_tokens)\n",
    "print('pad_sequences maxlen : ', maxlen)\n",
    "print('전체 문장의 {}%가 maxlen 설정값 이내에 포함됩니다. '.format(round(np.sum(num_tokens < max_tokens) / len(num_tokens)*100, 2) ))"
   ]
  },
  {
   "cell_type": "markdown",
   "id": "wrong-accountability",
   "metadata": {},
   "source": [
    "* keras.preprocessing.sequence.pad_sequences 을 활용한 패딩 추가"
   ]
  },
  {
   "cell_type": "code",
   "execution_count": 10,
   "id": "accepted-mozambique",
   "metadata": {},
   "outputs": [],
   "source": [
    "X_train = keras.preprocessing.sequence.pad_sequences(X_train,\n",
    "                                                        value=word_to_index[\"<PAD>\"],\n",
    "                                                        padding='pre',\n",
    "                                                        maxlen=maxlen)\n",
    "\n",
    "X_test = keras.preprocessing.sequence.pad_sequences(X_test,\n",
    "                                                       value=word_to_index[\"<PAD>\"],\n",
    "                                                       padding='pre',\n",
    "                                                       maxlen=maxlen)"
   ]
  },
  {
   "cell_type": "code",
   "execution_count": 11,
   "id": "dutch-delay",
   "metadata": {},
   "outputs": [
    {
     "name": "stdout",
     "output_type": "stream",
     "text": [
      "문장길이 평균 :  41.0\n",
      "문장길이 최대 :  41\n",
      "문장길이 표준편차 :  0.0\n"
     ]
    }
   ],
   "source": [
    "# 패딩 추가 후 문장길이 리스트 재정의\n",
    "\n",
    "total_data_text = list(X_train) + list(X_test)\n",
    "\n",
    "num_tokens = [len(tokens) for tokens in total_data_text]\n",
    "num_tokens = np.array(num_tokens)\n",
    "print('문장길이 평균 : ', np.mean(num_tokens))\n",
    "print('문장길이 최대 : ', np.max(num_tokens))\n",
    "print('문장길이 표준편차 : ', np.std(num_tokens))"
   ]
  },
  {
   "cell_type": "markdown",
   "id": "combined-vegetation",
   "metadata": {},
   "source": [
    "## 4) 모델구성 및 validation set 구성"
   ]
  },
  {
   "cell_type": "code",
   "execution_count": 12,
   "id": "bibliographic-badge",
   "metadata": {},
   "outputs": [],
   "source": [
    "x_val = X_train[:30000]   \n",
    "y_val = y_train[:30000]\n",
    "\n",
    "partial_x_train = X_train[30000:]  \n",
    "partial_y_train = y_train[30000:]"
   ]
  },
  {
   "cell_type": "markdown",
   "id": "patent-arrow",
   "metadata": {},
   "source": [
    "## 5) 모델별훈련"
   ]
  },
  {
   "cell_type": "markdown",
   "id": "skilled-velvet",
   "metadata": {},
   "source": [
    "* # LSTM"
   ]
  },
  {
   "cell_type": "markdown",
   "id": "complicated-express",
   "metadata": {},
   "source": [
    "#### 1) 모델 훈련"
   ]
  },
  {
   "cell_type": "code",
   "execution_count": 13,
   "id": "mysterious-proceeding",
   "metadata": {
    "scrolled": true
   },
   "outputs": [],
   "source": [
    "from tensorflow.keras.layers import Embedding, Dense, LSTM\n",
    "from tensorflow.keras.models import Sequential\n",
    "from tensorflow.keras.models import load_model\n",
    "from tensorflow.keras.callbacks import EarlyStopping, ModelCheckpoint"
   ]
  },
  {
   "cell_type": "code",
   "execution_count": 14,
   "id": "numerous-workstation",
   "metadata": {
    "scrolled": false
   },
   "outputs": [
    {
     "name": "stdout",
     "output_type": "stream",
     "text": [
      "Model: \"sequential\"\n",
      "_________________________________________________________________\n",
      "Layer (type)                 Output Shape              Param #   \n",
      "=================================================================\n",
      "embedding (Embedding)        (None, None, 16)          160000    \n",
      "_________________________________________________________________\n",
      "lstm (LSTM)                  (None, 64)                20736     \n",
      "_________________________________________________________________\n",
      "dense (Dense)                (None, 1)                 65        \n",
      "=================================================================\n",
      "Total params: 180,801\n",
      "Trainable params: 180,801\n",
      "Non-trainable params: 0\n",
      "_________________________________________________________________\n"
     ]
    }
   ],
   "source": [
    "vocab_size = 10000\n",
    "word_vector_dim = 16\n",
    "\n",
    "lstm_model = Sequential()\n",
    "lstm_model.add(Embedding(vocab_size, word_vector_dim, input_shape=(None,)))\n",
    "lstm_model.add(LSTM(64))\n",
    "lstm_model.add(Dense(1, activation='sigmoid'))\n",
    "\n",
    "lstm_model.summary()"
   ]
  },
  {
   "cell_type": "code",
   "execution_count": 15,
   "id": "antique-footage",
   "metadata": {},
   "outputs": [
    {
     "name": "stdout",
     "output_type": "stream",
     "text": [
      "Epoch 1/10\n",
      "3630/3631 [============================>.] - ETA: 0s - loss: 0.3873 - acc: 0.8246\n",
      "Epoch 00001: val_acc improved from -inf to 0.85347, saving model to best_model.h5\n",
      "3631/3631 [==============================] - 45s 12ms/step - loss: 0.3873 - acc: 0.8246 - val_loss: 0.3331 - val_acc: 0.8535\n",
      "Epoch 2/10\n",
      "3628/3631 [============================>.] - ETA: 0s - loss: 0.3063 - acc: 0.8687\n",
      "Epoch 00002: val_acc improved from 0.85347 to 0.85837, saving model to best_model.h5\n",
      "3631/3631 [==============================] - 45s 12ms/step - loss: 0.3064 - acc: 0.8686 - val_loss: 0.3220 - val_acc: 0.8584\n",
      "Epoch 3/10\n",
      "3627/3631 [============================>.] - ETA: 0s - loss: 0.2706 - acc: 0.8866\n",
      "Epoch 00003: val_acc improved from 0.85837 to 0.85977, saving model to best_model.h5\n",
      "3631/3631 [==============================] - 44s 12ms/step - loss: 0.2707 - acc: 0.8865 - val_loss: 0.3369 - val_acc: 0.8598\n",
      "Epoch 4/10\n",
      "3629/3631 [============================>.] - ETA: 0s - loss: 0.2440 - acc: 0.8985\n",
      "Epoch 00004: val_acc improved from 0.85977 to 0.86370, saving model to best_model.h5\n",
      "3631/3631 [==============================] - 45s 12ms/step - loss: 0.2440 - acc: 0.8985 - val_loss: 0.3284 - val_acc: 0.8637\n",
      "Epoch 5/10\n",
      "3629/3631 [============================>.] - ETA: 0s - loss: 0.2202 - acc: 0.9092\n",
      "Epoch 00005: val_acc did not improve from 0.86370\n",
      "3631/3631 [==============================] - 45s 12ms/step - loss: 0.2202 - acc: 0.9092 - val_loss: 0.3623 - val_acc: 0.8576\n",
      "Epoch 00005: early stopping\n"
     ]
    }
   ],
   "source": [
    "# 과적합 시 학습 조기종료, 검증데이터의 정확도가 이전보다 좋아질 경우만 모델 저장\n",
    "es = EarlyStopping(monitor='val_loss', mode='min', verbose=1, patience=3)\n",
    "mc = ModelCheckpoint('best_model.h5', monitor='val_acc', mode='max', verbose=1, save_best_only=True)\n",
    "\n",
    "lstm_model.compile(optimizer='adam',\n",
    "                   loss='binary_crossentropy',\n",
    "                   metrics=['acc'])\n",
    "\n",
    "lstm_history = lstm_model.fit(partial_x_train,\n",
    "                              partial_y_train,\n",
    "                              epochs=10,\n",
    "                              batch_size=32,\n",
    "                              callbacks=[es, mc],\n",
    "                              validation_data=(x_val, y_val),\n",
    "                              verbose=1)"
   ]
  },
  {
   "cell_type": "code",
   "execution_count": 16,
   "id": "civic-bulgarian",
   "metadata": {
    "scrolled": true
   },
   "outputs": [
    {
     "name": "stdout",
     "output_type": "stream",
     "text": [
      "1537/1537 - 5s - loss: 0.3364 - acc: 0.8590\n",
      "[0.3363531529903412, 0.8590231537818909]\n"
     ]
    }
   ],
   "source": [
    "loaded_model = load_model('best_model.h5')\n",
    "lstm_results = loaded_model.evaluate(X_test,  y_test, verbose=2)\n",
    "\n",
    "print(lstm_results)"
   ]
  },
  {
   "cell_type": "markdown",
   "id": "varying-radar",
   "metadata": {},
   "source": [
    "#### 2) 그래프 시각화"
   ]
  },
  {
   "cell_type": "code",
   "execution_count": 17,
   "id": "banner-cross",
   "metadata": {},
   "outputs": [],
   "source": [
    "lstm_history_dict = lstm_history.history\n",
    "\n",
    "acc = lstm_history_dict['acc']\n",
    "val_acc = lstm_history_dict['val_acc']\n",
    "loss = lstm_history_dict['loss']\n",
    "val_loss = lstm_history_dict['val_loss']\n",
    "\n",
    "epochs = range(1, len(acc) + 1)"
   ]
  },
  {
   "cell_type": "code",
   "execution_count": 18,
   "id": "hired-pizza",
   "metadata": {},
   "outputs": [
    {
     "data": {
      "image/png": "[encoded data removed]",
      "text/plain": [
       "<Figure size 432x288 with 1 Axes>"
      ]
     },
     "metadata": {
      "needs_background": "light"
     },
     "output_type": "display_data"
    },
    {
     "data": {
      "image/png": "[encoded data removed]",
      "text/plain": [
       "<Figure size 432x288 with 1 Axes>"
      ]
     },
     "metadata": {
      "needs_background": "light"
     },
     "output_type": "display_data"
    }
   ],
   "source": [
    "# Loss 그래프\n",
    "plt.plot(epochs, loss, 'bo', label='Training loss')\n",
    "plt.plot(epochs, val_loss, 'b', label='Validation loss')\n",
    "plt.title('Training and validation loss')\n",
    "plt.xlabel('Epochs')\n",
    "plt.ylabel('Loss')\n",
    "plt.legend()\n",
    "plt.show()\n",
    "\n",
    "# Accuracy 그래프\n",
    "plt.clf()\n",
    "plt.plot(epochs, acc, 'bo', label='Training acc')\n",
    "plt.plot(epochs, val_acc, 'b', label='Validation acc')\n",
    "plt.title('Training and validation accuracy')\n",
    "plt.xlabel('Epochs')\n",
    "plt.ylabel('Accuracy')\n",
    "plt.legend()\n",
    "plt.show()"
   ]
  },
  {
   "cell_type": "markdown",
   "id": "interesting-provincial",
   "metadata": {},
   "source": [
    "#### 3) 학습된 Embedding 레이어 분석"
   ]
  },
  {
   "cell_type": "code",
   "execution_count": 19,
   "id": "capable-birthday",
   "metadata": {},
   "outputs": [
    {
     "name": "stdout",
     "output_type": "stream",
     "text": [
      "(10000, 16)\n"
     ]
    }
   ],
   "source": [
    "embedding_layer = lstm_model.layers[0]\n",
    "weights = embedding_layer.get_weights()[0]\n",
    "print(weights.shape)"
   ]
  },
  {
   "cell_type": "code",
   "execution_count": 20,
   "id": "final-china",
   "metadata": {},
   "outputs": [],
   "source": [
    "word2vec_file_path = os.getenv('HOME')+'/aiffel/sentiment_classification/LSTM.txt'\n",
    "f = open(word2vec_file_path, 'w')\n",
    "f.write('{} {}\\n'.format(vocab_size-4, word_vector_dim))\n",
    "\n",
    "vectors = lstm_model.get_weights()[0]\n",
    "for i in range(4,vocab_size):\n",
    "    f.write('{} {}\\n'.format(index_to_word[i], ' '.join(map(str, list(vectors[i, :])))))\n",
    "f.close()"
   ]
  },
  {
   "cell_type": "code",
   "execution_count": 21,
   "id": "american-breakfast",
   "metadata": {
    "scrolled": true
   },
   "outputs": [
    {
     "data": {
      "text/plain": [
       "array([-0.23161224, -0.05512281, -0.09890804, -0.03413069, -0.00862995,\n",
       "        0.33455473,  0.05873756,  0.12833948,  0.05893002,  0.05989461,\n",
       "       -0.0438175 ,  0.35313392,  0.20010957, -0.05696595, -0.00995595,\n",
       "       -0.04183078], dtype=float32)"
      ]
     },
     "execution_count": 21,
     "metadata": {},
     "output_type": "execute_result"
    }
   ],
   "source": [
    "word_vectors = Word2VecKeyedVectors.load_word2vec_format(word2vec_file_path, binary=False)\n",
    "vector = word_vectors['컴퓨터']\n",
    "vector"
   ]
  },
  {
   "cell_type": "code",
   "execution_count": 22,
   "id": "chinese-somalia",
   "metadata": {
    "scrolled": false
   },
   "outputs": [
    {
     "data": {
      "text/plain": [
       "[('최고봉', 0.9779566526412964),\n",
       " ('젊', 0.9775917530059814),\n",
       " ('수준급', 0.9774724245071411),\n",
       " ('즐겼', 0.9769138693809509),\n",
       " ('그해', 0.9752836227416992),\n",
       " ('색다른', 0.9751410484313965),\n",
       " ('킨', 0.9747977256774902),\n",
       " ('느껴집니다', 0.9744848012924194),\n",
       " ('어깨', 0.9737206697463989),\n",
       " ('위력', 0.9713107347488403)]"
      ]
     },
     "execution_count": 22,
     "metadata": {},
     "output_type": "execute_result"
    }
   ],
   "source": [
    "word_vectors.similar_by_word(\"추천\")"
   ]
  },
  {
   "cell_type": "markdown",
   "id": "lucky-brave",
   "metadata": {},
   "source": [
    "높은 정확도로 비슷한 단어를 추천함을 알 수 있다."
   ]
  },
  {
   "cell_type": "markdown",
   "id": "brave-custom",
   "metadata": {},
   "source": [
    "---"
   ]
  },
  {
   "cell_type": "markdown",
   "id": "integral-terminal",
   "metadata": {},
   "source": [
    "* # Conv1D"
   ]
  },
  {
   "cell_type": "markdown",
   "id": "herbal-ordering",
   "metadata": {},
   "source": [
    "#### 1) 모델 훈련"
   ]
  },
  {
   "cell_type": "code",
   "execution_count": 23,
   "id": "searching-surname",
   "metadata": {},
   "outputs": [],
   "source": [
    "from tensorflow.keras.layers import Conv1D, MaxPooling1D, GlobalMaxPooling1D"
   ]
  },
  {
   "cell_type": "code",
   "execution_count": 24,
   "id": "perceived-bennett",
   "metadata": {
    "scrolled": false
   },
   "outputs": [
    {
     "name": "stdout",
     "output_type": "stream",
     "text": [
      "Model: \"sequential_1\"\n",
      "_________________________________________________________________\n",
      "Layer (type)                 Output Shape              Param #   \n",
      "=================================================================\n",
      "embedding_1 (Embedding)      (None, None, 16)          160000    \n",
      "_________________________________________________________________\n",
      "conv1d (Conv1D)              (None, None, 16)          1808      \n",
      "_________________________________________________________________\n",
      "max_pooling1d (MaxPooling1D) (None, None, 16)          0         \n",
      "_________________________________________________________________\n",
      "conv1d_1 (Conv1D)            (None, None, 16)          1808      \n",
      "_________________________________________________________________\n",
      "global_max_pooling1d (Global (None, 16)                0         \n",
      "_________________________________________________________________\n",
      "dense_1 (Dense)              (None, 8)                 136       \n",
      "_________________________________________________________________\n",
      "dense_2 (Dense)              (None, 1)                 9         \n",
      "=================================================================\n",
      "Total params: 163,761\n",
      "Trainable params: 163,761\n",
      "Non-trainable params: 0\n",
      "_________________________________________________________________\n"
     ]
    }
   ],
   "source": [
    "vocab_size = 10000\n",
    "word_vector_dim = 16\n",
    "\n",
    "conv_model = Sequential()\n",
    "conv_model.add(Embedding(vocab_size, word_vector_dim, input_shape=(None,)))\n",
    "conv_model.add(Conv1D(16, 7, activation='relu'))\n",
    "conv_model.add(MaxPooling1D(5))\n",
    "conv_model.add(Conv1D(16, 7, activation='relu'))\n",
    "conv_model.add(GlobalMaxPooling1D())\n",
    "conv_model.add(Dense(8, activation='relu'))\n",
    "conv_model.add(Dense(1, activation='sigmoid'))\n",
    "\n",
    "conv_model.summary()"
   ]
  },
  {
   "cell_type": "code",
   "execution_count": 25,
   "id": "facial-raise",
   "metadata": {},
   "outputs": [
    {
     "name": "stdout",
     "output_type": "stream",
     "text": [
      "Epoch 1/10\n",
      "3631/3631 [==============================] - 7s 2ms/step - loss: 0.3857 - accuracy: 0.8219 - val_loss: 0.3331 - val_accuracy: 0.8536\n",
      "Epoch 2/10\n",
      "3631/3631 [==============================] - 7s 2ms/step - loss: 0.2891 - accuracy: 0.8791 - val_loss: 0.3252 - val_accuracy: 0.8575\n",
      "Epoch 3/10\n",
      "3631/3631 [==============================] - 7s 2ms/step - loss: 0.2340 - accuracy: 0.9058 - val_loss: 0.3429 - val_accuracy: 0.8564\n",
      "Epoch 4/10\n",
      "3631/3631 [==============================] - 7s 2ms/step - loss: 0.1844 - accuracy: 0.9292 - val_loss: 0.3889 - val_accuracy: 0.8513\n",
      "Epoch 5/10\n",
      "3631/3631 [==============================] - 7s 2ms/step - loss: 0.1467 - accuracy: 0.9460 - val_loss: 0.4433 - val_accuracy: 0.8462\n",
      "Epoch 6/10\n",
      "3631/3631 [==============================] - 7s 2ms/step - loss: 0.1195 - accuracy: 0.9572 - val_loss: 0.4875 - val_accuracy: 0.8452\n",
      "Epoch 7/10\n",
      "3631/3631 [==============================] - 7s 2ms/step - loss: 0.1017 - accuracy: 0.9637 - val_loss: 0.5669 - val_accuracy: 0.8409\n",
      "Epoch 8/10\n",
      "3631/3631 [==============================] - 7s 2ms/step - loss: 0.0872 - accuracy: 0.9690 - val_loss: 0.6509 - val_accuracy: 0.8283\n",
      "Epoch 9/10\n",
      "3631/3631 [==============================] - 7s 2ms/step - loss: 0.0768 - accuracy: 0.9725 - val_loss: 0.6813 - val_accuracy: 0.8370\n",
      "Epoch 10/10\n",
      "3631/3631 [==============================] - 7s 2ms/step - loss: 0.0701 - accuracy: 0.9750 - val_loss: 0.7102 - val_accuracy: 0.8326\n"
     ]
    }
   ],
   "source": [
    "conv_model.compile(optimizer='adam',\n",
    "                   loss='binary_crossentropy',\n",
    "                   metrics=['accuracy'])\n",
    "\n",
    "conv_history = conv_model.fit(partial_x_train,\n",
    "                         partial_y_train,\n",
    "                         epochs=10,\n",
    "                         batch_size=32,\n",
    "                         validation_data=(x_val, y_val),\n",
    "                         verbose=1)"
   ]
  },
  {
   "cell_type": "code",
   "execution_count": 26,
   "id": "stylish-investor",
   "metadata": {},
   "outputs": [
    {
     "name": "stdout",
     "output_type": "stream",
     "text": [
      "1537/1537 - 1s - loss: 0.7342 - accuracy: 0.8261\n",
      "[0.7342488169670105, 0.8261285424232483]\n"
     ]
    }
   ],
   "source": [
    "conv_results = conv_model.evaluate(X_test,  y_test, verbose=2)\n",
    "\n",
    "print(conv_results)"
   ]
  },
  {
   "cell_type": "markdown",
   "id": "instant-probe",
   "metadata": {},
   "source": [
    "#### 2) 그래프 시각화"
   ]
  },
  {
   "cell_type": "code",
   "execution_count": 27,
   "id": "therapeutic-response",
   "metadata": {},
   "outputs": [],
   "source": [
    "conv_history_dict = conv_history.history\n",
    "\n",
    "acc = conv_history_dict['accuracy']\n",
    "val_acc = conv_history_dict['val_accuracy']\n",
    "loss = conv_history_dict['loss']\n",
    "val_loss = conv_history_dict['val_loss']\n",
    "\n",
    "epochs = range(1, len(acc) + 1)"
   ]
  },
  {
   "cell_type": "code",
   "execution_count": 28,
   "id": "charitable-server",
   "metadata": {},
   "outputs": [
    {
     "data": {
      "image/png": "[encoded data removed]",
      "text/plain": [
       "<Figure size 432x288 with 1 Axes>"
      ]
     },
     "metadata": {
      "needs_background": "light"
     },
     "output_type": "display_data"
    },
    {
     "data": {
      "image/png": "[encoded data removed]",
      "text/plain": [
       "<Figure size 432x288 with 1 Axes>"
      ]
     },
     "metadata": {
      "needs_background": "light"
     },
     "output_type": "display_data"
    }
   ],
   "source": [
    "# Loss 그래프\n",
    "plt.plot(epochs, loss, 'bo', label='Training loss')\n",
    "plt.plot(epochs, val_loss, 'b', label='Validation loss')\n",
    "plt.title('Training and validation loss')\n",
    "plt.xlabel('Epochs')\n",
    "plt.ylabel('Loss')\n",
    "plt.legend()\n",
    "plt.show()\n",
    "\n",
    "# Accuracy 그래프\n",
    "plt.clf() \n",
    "plt.plot(epochs, acc, 'bo', label='Training acc')\n",
    "plt.plot(epochs, val_acc, 'b', label='Validation acc')\n",
    "plt.title('Training and validation accuracy')\n",
    "plt.xlabel('Epochs')\n",
    "plt.ylabel('Accuracy')\n",
    "plt.legend()\n",
    "plt.show()"
   ]
  },
  {
   "cell_type": "markdown",
   "id": "visible-qualification",
   "metadata": {},
   "source": [
    "#### 3) 학습된 Embedding 레이어 분석"
   ]
  },
  {
   "cell_type": "code",
   "execution_count": 29,
   "id": "associate-spouse",
   "metadata": {},
   "outputs": [
    {
     "name": "stdout",
     "output_type": "stream",
     "text": [
      "(10000, 16)\n"
     ]
    }
   ],
   "source": [
    "embedding_layer = conv_model.layers[0]\n",
    "weights = embedding_layer.get_weights()[0]\n",
    "print(weights.shape)"
   ]
  },
  {
   "cell_type": "code",
   "execution_count": 30,
   "id": "scenic-speaker",
   "metadata": {},
   "outputs": [],
   "source": [
    "word2vec_file_path = os.getenv('HOME')+'/aiffel/sentiment_classification/Conv.txt'\n",
    "f = open(word2vec_file_path, 'w')\n",
    "f.write('{} {}\\n'.format(vocab_size-4, word_vector_dim))\n",
    "\n",
    "vectors = conv_model.get_weights()[0]\n",
    "for i in range(4,vocab_size):\n",
    "    f.write('{} {}\\n'.format(index_to_word[i], ' '.join(map(str, list(vectors[i, :])))))\n",
    "f.close()"
   ]
  },
  {
   "cell_type": "code",
   "execution_count": 31,
   "id": "committed-surface",
   "metadata": {},
   "outputs": [
    {
     "data": {
      "text/plain": [
       "array([-0.01586851, -0.08497608, -0.10031389,  0.11009786,  0.08773369,\n",
       "        0.24770074,  0.29154563, -0.38484982, -0.05678456,  0.12676686,\n",
       "        0.22865036,  0.23125137, -0.00514019, -0.0250407 , -0.11347689,\n",
       "       -0.05161467], dtype=float32)"
      ]
     },
     "execution_count": 31,
     "metadata": {},
     "output_type": "execute_result"
    }
   ],
   "source": [
    "word_vectors = Word2VecKeyedVectors.load_word2vec_format(word2vec_file_path, binary=False)\n",
    "vector = word_vectors['컴퓨터']\n",
    "vector"
   ]
  },
  {
   "cell_type": "code",
   "execution_count": 32,
   "id": "continuing-arabic",
   "metadata": {
    "scrolled": true
   },
   "outputs": [
    {
     "data": {
      "text/plain": [
       "[('원조', 0.8452690839767456),\n",
       " ('굿', 0.8258330821990967),\n",
       " ('진하', 0.8202427625656128),\n",
       " ('great', 0.8189280033111572),\n",
       " ('신', 0.8134980201721191),\n",
       " ('기다려', 0.8122517466545105),\n",
       " ('♥', 0.8096330165863037),\n",
       " ('설레', 0.805724024772644),\n",
       " ('한정', 0.7983520030975342),\n",
       " ('ㅠㅠㅠㅠ', 0.7974637150764465)]"
      ]
     },
     "execution_count": 32,
     "metadata": {},
     "output_type": "execute_result"
    }
   ],
   "source": [
    "word_vectors.similar_by_word(\"추천\")"
   ]
  },
  {
   "cell_type": "markdown",
   "id": "clear-spirit",
   "metadata": {},
   "source": [
    "다소 낮은 정확도를 가지고 있음을 알 수 있다."
   ]
  },
  {
   "cell_type": "markdown",
   "id": "exceptional-understanding",
   "metadata": {},
   "source": [
    "---"
   ]
  },
  {
   "cell_type": "markdown",
   "id": "substantial-graham",
   "metadata": {},
   "source": [
    "* # GlobalMaxPooling1D"
   ]
  },
  {
   "cell_type": "markdown",
   "id": "proper-physiology",
   "metadata": {},
   "source": [
    "#### 1) 모델 훈련"
   ]
  },
  {
   "cell_type": "code",
   "execution_count": 33,
   "id": "undefined-florence",
   "metadata": {
    "scrolled": true
   },
   "outputs": [
    {
     "name": "stdout",
     "output_type": "stream",
     "text": [
      "Model: \"sequential_2\"\n",
      "_________________________________________________________________\n",
      "Layer (type)                 Output Shape              Param #   \n",
      "=================================================================\n",
      "embedding_2 (Embedding)      (None, None, 16)          160000    \n",
      "_________________________________________________________________\n",
      "global_max_pooling1d_1 (Glob (None, 16)                0         \n",
      "_________________________________________________________________\n",
      "dense_3 (Dense)              (None, 8)                 136       \n",
      "_________________________________________________________________\n",
      "dense_4 (Dense)              (None, 1)                 9         \n",
      "=================================================================\n",
      "Total params: 160,145\n",
      "Trainable params: 160,145\n",
      "Non-trainable params: 0\n",
      "_________________________________________________________________\n"
     ]
    }
   ],
   "source": [
    "vocab_size = 10000\n",
    "word_vector_dim = 16\n",
    "\n",
    "gmp_model = Sequential()\n",
    "gmp_model.add(Embedding(vocab_size, word_vector_dim, input_shape=(None,)))\n",
    "gmp_model.add(GlobalMaxPooling1D())\n",
    "gmp_model.add(Dense(8, activation='relu'))\n",
    "gmp_model.add(Dense(1, activation='sigmoid'))  # 최종 출력은 긍정/부정을 나타내는 1dim\n",
    "\n",
    "gmp_model.summary()"
   ]
  },
  {
   "cell_type": "code",
   "execution_count": 34,
   "id": "quality-traffic",
   "metadata": {},
   "outputs": [
    {
     "name": "stdout",
     "output_type": "stream",
     "text": [
      "Epoch 1/10\n",
      "3631/3631 [==============================] - 4s 1ms/step - loss: 0.4142 - accuracy: 0.8132 - val_loss: 0.3550 - val_accuracy: 0.8426\n",
      "Epoch 2/10\n",
      "3631/3631 [==============================] - 5s 1ms/step - loss: 0.3231 - accuracy: 0.8620 - val_loss: 0.3491 - val_accuracy: 0.8482\n",
      "Epoch 3/10\n",
      "3631/3631 [==============================] - 4s 1ms/step - loss: 0.2923 - accuracy: 0.8776 - val_loss: 0.3528 - val_accuracy: 0.8481\n",
      "Epoch 4/10\n",
      "3631/3631 [==============================] - 4s 1ms/step - loss: 0.2705 - accuracy: 0.8886 - val_loss: 0.3606 - val_accuracy: 0.8466\n",
      "Epoch 5/10\n",
      "3631/3631 [==============================] - 5s 1ms/step - loss: 0.2537 - accuracy: 0.8974 - val_loss: 0.3696 - val_accuracy: 0.8458\n",
      "Epoch 6/10\n",
      "3631/3631 [==============================] - 5s 1ms/step - loss: 0.2404 - accuracy: 0.9032 - val_loss: 0.3815 - val_accuracy: 0.8433\n",
      "Epoch 7/10\n",
      "3631/3631 [==============================] - 5s 1ms/step - loss: 0.2289 - accuracy: 0.9092 - val_loss: 0.3909 - val_accuracy: 0.8423\n",
      "Epoch 8/10\n",
      "3631/3631 [==============================] - 5s 1ms/step - loss: 0.2188 - accuracy: 0.9133 - val_loss: 0.4064 - val_accuracy: 0.8423\n",
      "Epoch 9/10\n",
      "3631/3631 [==============================] - 5s 1ms/step - loss: 0.2105 - accuracy: 0.9179 - val_loss: 0.4164 - val_accuracy: 0.8399\n",
      "Epoch 10/10\n",
      "3631/3631 [==============================] - 5s 1ms/step - loss: 0.2032 - accuracy: 0.9212 - val_loss: 0.4308 - val_accuracy: 0.8382\n"
     ]
    }
   ],
   "source": [
    "gmp_model.compile(optimizer='adam',\n",
    "                  loss='binary_crossentropy',\n",
    "                  metrics=['accuracy'])\n",
    "\n",
    "gmp_history = gmp_model.fit(partial_x_train,\n",
    "                            partial_y_train,\n",
    "                            epochs=10,\n",
    "                            batch_size=32,\n",
    "                            validation_data=(x_val, y_val),\n",
    "                            verbose=1)"
   ]
  },
  {
   "cell_type": "code",
   "execution_count": 35,
   "id": "neutral-banner",
   "metadata": {
    "scrolled": true
   },
   "outputs": [
    {
     "name": "stdout",
     "output_type": "stream",
     "text": [
      "1537/1537 - 1s - loss: 0.4354 - accuracy: 0.8326\n",
      "[0.43538692593574524, 0.8325772285461426]\n"
     ]
    }
   ],
   "source": [
    "gmp_results = gmp_model.evaluate(X_test,  y_test, verbose=2)\n",
    "\n",
    "print(gmp_results)"
   ]
  },
  {
   "cell_type": "code",
   "execution_count": 36,
   "id": "micro-darkness",
   "metadata": {},
   "outputs": [],
   "source": [
    "gmp_history_dict = gmp_history.history\n",
    "\n",
    "acc = gmp_history_dict['accuracy']\n",
    "val_acc = gmp_history_dict['val_accuracy']\n",
    "loss = gmp_history_dict['loss']\n",
    "val_loss = gmp_history_dict['val_loss']\n",
    "\n",
    "epochs = range(1, len(acc) + 1)"
   ]
  },
  {
   "cell_type": "markdown",
   "id": "center-specification",
   "metadata": {},
   "source": [
    "#### 2) 그래프 시각화"
   ]
  },
  {
   "cell_type": "code",
   "execution_count": 37,
   "id": "standing-resident",
   "metadata": {},
   "outputs": [
    {
     "data": {
      "image/png": "[encoded data removed]",
      "text/plain": [
       "<Figure size 432x288 with 1 Axes>"
      ]
     },
     "metadata": {
      "needs_background": "light"
     },
     "output_type": "display_data"
    },
    {
     "data": {
      "image/png": "[encoded data removed]",
      "text/plain": [
       "<Figure size 432x288 with 1 Axes>"
      ]
     },
     "metadata": {
      "needs_background": "light"
     },
     "output_type": "display_data"
    }
   ],
   "source": [
    "# Loss 그래프\n",
    "plt.plot(epochs, loss, 'bo', label='Training loss')\n",
    "plt.plot(epochs, val_loss, 'b', label='Validation loss')\n",
    "plt.title('Training and validation loss')\n",
    "plt.xlabel('Epochs')\n",
    "plt.ylabel('Loss')\n",
    "plt.legend()\n",
    "plt.show()\n",
    "\n",
    "# Accuracy 그래프\n",
    "plt.clf()\n",
    "plt.plot(epochs, acc, 'bo', label='Training acc')\n",
    "plt.plot(epochs, val_acc, 'b', label='Validation acc')\n",
    "plt.title('Training and validation accuracy')\n",
    "plt.xlabel('Epochs')\n",
    "plt.ylabel('Accuracy')\n",
    "plt.legend()\n",
    "plt.show()"
   ]
  },
  {
   "cell_type": "markdown",
   "id": "emotional-council",
   "metadata": {},
   "source": [
    "#### 3) 학습된 Embedding 레이어 분석"
   ]
  },
  {
   "cell_type": "code",
   "execution_count": 38,
   "id": "unavailable-eligibility",
   "metadata": {},
   "outputs": [
    {
     "name": "stdout",
     "output_type": "stream",
     "text": [
      "(10000, 16)\n"
     ]
    }
   ],
   "source": [
    "embedding_layer = gmp_model.layers[0]\n",
    "weights = embedding_layer.get_weights()[0]\n",
    "print(weights.shape)"
   ]
  },
  {
   "cell_type": "code",
   "execution_count": 39,
   "id": "accepted-samuel",
   "metadata": {},
   "outputs": [],
   "source": [
    "word2vec_file_path = os.getenv('HOME')+'/aiffel/sentiment_classification/GlobalMaxPooling.txt'\n",
    "f = open(word2vec_file_path, 'w')\n",
    "f.write('{} {}\\n'.format(vocab_size-4, word_vector_dim))\n",
    "\n",
    "vectors = gmp_model.get_weights()[0]\n",
    "for i in range(4,vocab_size):\n",
    "    f.write('{} {}\\n'.format(index_to_word[i], ' '.join(map(str, list(vectors[i, :])))))\n",
    "f.close()"
   ]
  },
  {
   "cell_type": "code",
   "execution_count": 40,
   "id": "iraqi-charity",
   "metadata": {},
   "outputs": [
    {
     "data": {
      "text/plain": [
       "array([-0.6369704 , -0.02622382, -0.05904836, -0.22717537, -0.20987444,\n",
       "       -0.24942498, -0.04377233, -0.46514106, -0.1083621 , -0.36539295,\n",
       "       -0.01360741, -0.2911179 , -0.03481179, -0.106375  , -0.14020546,\n",
       "       -0.1938369 ], dtype=float32)"
      ]
     },
     "execution_count": 40,
     "metadata": {},
     "output_type": "execute_result"
    }
   ],
   "source": [
    "word_vectors = Word2VecKeyedVectors.load_word2vec_format(word2vec_file_path, binary=False)\n",
    "vector = word_vectors['컴퓨터']\n",
    "vector"
   ]
  },
  {
   "cell_type": "code",
   "execution_count": 41,
   "id": "agreed-vessel",
   "metadata": {
    "scrolled": false
   },
   "outputs": [
    {
     "data": {
      "text/plain": [
       "[('핀', 0.9010083675384521),\n",
       " ('바탕', 0.8943302631378174),\n",
       " ('짙', 0.8756757378578186),\n",
       " ('세세', 0.8749301433563232),\n",
       " ('리즈', 0.8718863725662231),\n",
       " ('예쁜', 0.8704178333282471),\n",
       " ('이란', 0.8680400848388672),\n",
       " ('우리', 0.8603310585021973),\n",
       " ('죠', 0.8579314351081848),\n",
       " ('본지', 0.8576925992965698)]"
      ]
     },
     "execution_count": 41,
     "metadata": {},
     "output_type": "execute_result"
    }
   ],
   "source": [
    "word_vectors.similar_by_word(\"추천\")"
   ]
  },
  {
   "cell_type": "markdown",
   "id": "entitled-encounter",
   "metadata": {},
   "source": [
    "---"
   ]
  },
  {
   "cell_type": "code",
   "execution_count": 42,
   "id": "large-semester",
   "metadata": {},
   "outputs": [
    {
     "name": "stdout",
     "output_type": "stream",
     "text": [
      "LSTM 모델의 정확도 : 85.9\n",
      "Conv1D 모델의 정확도 : 82.61\n",
      "GlobalMaxPooling1D 모델의 정확도 : 83.26\n"
     ]
    }
   ],
   "source": [
    "print('LSTM 모델의 정확도 :', round(lstm_results[1]*100, 2))\n",
    "print('Conv1D 모델의 정확도 :', round(conv_results[1]*100, 2))\n",
    "print('GlobalMaxPooling1D 모델의 정확도 :', round(gmp_results[1]*100, 2))"
   ]
  },
  {
   "cell_type": "markdown",
   "id": "rolled-street",
   "metadata": {},
   "source": [
    "---"
   ]
  },
  {
   "cell_type": "markdown",
   "id": "restricted-manner",
   "metadata": {},
   "source": [
    "## 6) 한국어 Word2Vec 임베딩 활용"
   ]
  },
  {
   "cell_type": "code",
   "execution_count": 47,
   "id": "ignored-situation",
   "metadata": {
    "scrolled": true
   },
   "outputs": [
    {
     "name": "stdout",
     "output_type": "stream",
     "text": [
      "(30185, 200)\n"
     ]
    },
    {
     "data": {
      "text/plain": [
       "[('위촉', 0.6401861310005188),\n",
       " ('천거', 0.6389721632003784),\n",
       " ('추대', 0.5849215388298035),\n",
       " ('선출', 0.5803494453430176),\n",
       " ('초청', 0.5759262442588806),\n",
       " ('발탁', 0.5613523721694946),\n",
       " ('선정', 0.5511638522148132),\n",
       " ('임명', 0.5414161682128906),\n",
       " ('초빙', 0.5363222360610962),\n",
       " ('기용', 0.5326868295669556)]"
      ]
     },
     "execution_count": 47,
     "metadata": {},
     "output_type": "execute_result"
    }
   ],
   "source": [
    "# 사전학습된 임베딩 레이어 분석\n",
    "word2vec_path = os.getenv('HOME')+'/aiffel/sentiment_classification/ko.bin'\n",
    "w2v_model = Word2Vec.load(word2vec_path)\n",
    "print(w2v_model.wv.vectors.shape)\n",
    "w2v_model.wv.most_similar(\"추천\")"
   ]
  },
  {
   "cell_type": "markdown",
   "id": "foster-tyler",
   "metadata": {},
   "source": [
    "사전학습된 임베딩 레이어가 자체학습 임베딩 레이어보다 성능이 안 좋음"
   ]
  },
  {
   "cell_type": "markdown",
   "id": "judicial-terrace",
   "metadata": {},
   "source": [
    "#### 1) 임베딩 matrix 생성"
   ]
  },
  {
   "cell_type": "code",
   "execution_count": 48,
   "id": "declared-bangladesh",
   "metadata": {},
   "outputs": [],
   "source": [
    "vocab_size = 10000\n",
    "word_vector_dim = 200\n",
    "\n",
    "embedding_matrix = np.zeros((vocab_size, word_vector_dim))\n",
    "\n",
    "for i in range(4, vocab_size):\n",
    "    if index_to_word[i] in w2v_model.wv:\n",
    "        embedding_matrix[i] = w2v_model.wv[index_to_word[i]]"
   ]
  },
  {
   "cell_type": "markdown",
   "id": "unlikely-booking",
   "metadata": {},
   "source": [
    "#### 2) 모델 훈련"
   ]
  },
  {
   "cell_type": "code",
   "execution_count": 57,
   "id": "aboriginal-alloy",
   "metadata": {},
   "outputs": [
    {
     "name": "stdout",
     "output_type": "stream",
     "text": [
      "Model: \"sequential_9\"\n",
      "_________________________________________________________________\n",
      "Layer (type)                 Output Shape              Param #   \n",
      "=================================================================\n",
      "embedding_9 (Embedding)      (None, 41, 200)           2000000   \n",
      "_________________________________________________________________\n",
      "lstm_7 (LSTM)                (None, 64)                67840     \n",
      "_________________________________________________________________\n",
      "flatten_6 (Flatten)          (None, 64)                0         \n",
      "_________________________________________________________________\n",
      "dense_11 (Dense)             (None, 1)                 65        \n",
      "=================================================================\n",
      "Total params: 2,067,905\n",
      "Trainable params: 2,067,905\n",
      "Non-trainable params: 0\n",
      "_________________________________________________________________\n"
     ]
    }
   ],
   "source": [
    "# 성능을 높이기 위해 LSTM 모델 선택하고 dropout 옵션 추가\n",
    "\n",
    "from tensorflow.keras.layers import Flatten\n",
    "\n",
    "vocab_size = 10000\n",
    "word_vector_dim = 200\n",
    "\n",
    "w2v_model = Sequential()\n",
    "w2v_model.add(Embedding(vocab_size,\n",
    "                        word_vector_dim,\n",
    "                        weights = [embedding_matrix],\n",
    "                        input_length=maxlen,\n",
    "                        trainable=True))\n",
    "\n",
    "w2v_model.add(LSTM(64, dropout=0.2))\n",
    "w2v_model.add(Flatten())\n",
    "w2v_model.add(Dense(1, activation='sigmoid'))\n",
    "\n",
    "w2v_model.summary()"
   ]
  },
  {
   "cell_type": "code",
   "execution_count": 58,
   "id": "constitutional-nancy",
   "metadata": {},
   "outputs": [
    {
     "name": "stdout",
     "output_type": "stream",
     "text": [
      "Epoch 1/10\n",
      "3631/3631 [==============================] - ETA: 0s - loss: 0.3957 - acc: 0.8181\n",
      "Epoch 00001: val_acc improved from -inf to 0.85837, saving model to best_model.h5\n",
      "3631/3631 [==============================] - 107s 29ms/step - loss: 0.3957 - acc: 0.8181 - val_loss: 0.3265 - val_acc: 0.8584\n",
      "Epoch 2/10\n",
      "3631/3631 [==============================] - ETA: 0s - loss: 0.3057 - acc: 0.8692\n",
      "Epoch 00002: val_acc improved from 0.85837 to 0.86423, saving model to best_model.h5\n",
      "3631/3631 [==============================] - 106s 29ms/step - loss: 0.3057 - acc: 0.8692 - val_loss: 0.3192 - val_acc: 0.8642\n",
      "Epoch 3/10\n",
      "3631/3631 [==============================] - ETA: 0s - loss: 0.2711 - acc: 0.8858\n",
      "Epoch 00003: val_acc improved from 0.86423 to 0.86853, saving model to best_model.h5\n",
      "3631/3631 [==============================] - 105s 29ms/step - loss: 0.2711 - acc: 0.8858 - val_loss: 0.3124 - val_acc: 0.8685\n",
      "Epoch 4/10\n",
      "3631/3631 [==============================] - ETA: 0s - loss: 0.2430 - acc: 0.8991\n",
      "Epoch 00004: val_acc improved from 0.86853 to 0.86890, saving model to best_model.h5\n",
      "3631/3631 [==============================] - 107s 29ms/step - loss: 0.2430 - acc: 0.8991 - val_loss: 0.3191 - val_acc: 0.8689\n",
      "Epoch 5/10\n",
      "3631/3631 [==============================] - ETA: 0s - loss: 0.2172 - acc: 0.9113\n",
      "Epoch 00005: val_acc did not improve from 0.86890\n",
      "3631/3631 [==============================] - 107s 30ms/step - loss: 0.2172 - acc: 0.9113 - val_loss: 0.3308 - val_acc: 0.8687\n",
      "Epoch 6/10\n",
      "3631/3631 [==============================] - ETA: 0s - loss: 0.1961 - acc: 0.9201\n",
      "Epoch 00006: val_acc did not improve from 0.86890\n",
      "3631/3631 [==============================] - 106s 29ms/step - loss: 0.1961 - acc: 0.9201 - val_loss: 0.3498 - val_acc: 0.8666\n",
      "Epoch 00006: early stopping\n"
     ]
    }
   ],
   "source": [
    "es = EarlyStopping(monitor='val_loss', mode='min', verbose=1, patience=3)\n",
    "mc = ModelCheckpoint('best_model.h5', monitor='val_acc', mode='max', verbose=1, save_best_only=True)\n",
    "\n",
    "w2v_model.compile(optimizer='adam',\n",
    "                  loss='binary_crossentropy',\n",
    "                  metrics=['acc'])\n",
    "\n",
    "w2v_history = w2v_model.fit(partial_x_train,\n",
    "                            partial_y_train,\n",
    "                            epochs=10,\n",
    "                            batch_size=32,\n",
    "                            callbacks=[es, mc],\n",
    "                            validation_data=(x_val, y_val),\n",
    "                            verbose=1)"
   ]
  },
  {
   "cell_type": "code",
   "execution_count": 59,
   "id": "instant-flexibility",
   "metadata": {},
   "outputs": [
    {
     "name": "stdout",
     "output_type": "stream",
     "text": [
      "1537/1537 - 6s - loss: 0.3274 - acc: 0.8636\n",
      "[0.32742738723754883, 0.8636409640312195]\n"
     ]
    }
   ],
   "source": [
    "loaded_model = load_model('best_model.h5')\n",
    "w2v_results = loaded_model.evaluate(X_test,  y_test, verbose=2)\n",
    "\n",
    "print(w2v_results)"
   ]
  },
  {
   "cell_type": "code",
   "execution_count": 60,
   "id": "oriented-cause",
   "metadata": {},
   "outputs": [
    {
     "name": "stdout",
     "output_type": "stream",
     "text": [
      "LSTM 모델의 정확도 : 85.9\n",
      "Word2Vec 모델의 정확도 : 86.36\n"
     ]
    }
   ],
   "source": [
    "print('LSTM 모델의 정확도 :', round(lstm_results[1]*100, 2))\n",
    "print('Word2Vec 모델의 정확도 :', round(w2v_results[1]*100, 2))"
   ]
  },
  {
   "cell_type": "markdown",
   "id": "original-forest",
   "metadata": {},
   "source": [
    "---"
   ]
  },
  {
   "cell_type": "markdown",
   "id": "aerial-temple",
   "metadata": {},
   "source": [
    "세 모델 중 LSTM 모델이 가장 높은 정확도를 가지고 있음을 알 수 있다.   \n",
    "Word2Vec 임베딩에 LSTM 모델을 합쳐 훈련시켰을 때 조금 더 좋은 성능을 보인다."
   ]
  }
 ],
 "metadata": {
  "kernelspec": {
   "display_name": "aiffel",
   "language": "python",
   "name": "aiffel"
  },
  "language_info": {
   "codemirror_mode": {
    "name": "ipython",
    "version": 3
   },
   "file_extension": ".py",
   "mimetype": "text/x-python",
   "name": "python",
   "nbconvert_exporter": "python",
   "pygments_lexer": "ipython3",
   "version": "3.7.9"
  }
 },
 "nbformat": 4,
 "nbformat_minor": 5
}
